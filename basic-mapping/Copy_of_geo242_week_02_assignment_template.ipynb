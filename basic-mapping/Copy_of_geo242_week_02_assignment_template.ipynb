{
  "nbformat": 4,
  "nbformat_minor": 0,
  "metadata": {
    "colab": {
      "provenance": [],
      "include_colab_link": true
    },
    "kernelspec": {
      "name": "python3",
      "display_name": "Python 3"
    },
    "language_info": {
      "name": "python"
    }
  },
  "cells": [
    {
      "cell_type": "markdown",
      "metadata": {
        "id": "view-in-github",
        "colab_type": "text"
      },
      "source": [
        "<a href=\"https://colab.research.google.com/github/lukeeakin/gis-project-portfolio-2024GEO242-/blob/main/basic-mapping/Copy_of_geo242_week_02_assignment_template.ipynb\" target=\"_parent\"><img src=\"https://colab.research.google.com/assets/colab-badge.svg\" alt=\"Open In Colab\"/></a>"
      ]
    },
    {
      "cell_type": "markdown",
      "source": [
        "## **GEO 242A Week 2 Assignment: Cartography**"
      ],
      "metadata": {
        "id": "C0ymCPR5aSHN"
      }
    },
    {
      "cell_type": "markdown",
      "source": [
        "🚀 Created by Luke Eakin\n",
        "\n",
        "9/10/2024"
      ],
      "metadata": {
        "id": "Pt_OREXFPvkr"
      }
    },
    {
      "cell_type": "markdown",
      "source": [
        "### **Get ready to start**\n",
        "\n",
        "- Use **`File\\Save a copy in Drive`** to make a copy of this notebook in my own Google Drive\n",
        "- By default, this notebooks will be saved to a new folder called **`Colab`** under root directory of my Google Drive"
      ],
      "metadata": {
        "id": "v84Fkx0LHARM"
      }
    },
    {
      "cell_type": "markdown",
      "source": [
        "### **Map North American Rivers and Basins**\n",
        "\n",
        "1. **Original shareable link of the map**\n",
        "\n",
        "```markdown\n",
        "https://drive.google.com/file/d/1Ch8ALtMjpR88ur_1Qv2JqL9R3L7BH5Hg/view?usp=sharing\n",
        "```\n",
        "\n",
        "2. **Obtain a shareable link**\n",
        "\n",
        "   - The default link I get for this picture file cannot be directly used in Notebook to show the picture correctly\n",
        "   - I made some changes to the default sharable link:\n",
        "    - Deleted **`/view?usp=sharing`** at the end of the link\n",
        "    - Replaced **`/file/d/`** with **`/uc?export=view&id=`**\n",
        "   - Below is a link I can use to insert a picture in Google Colab notebook\n",
        "\n",
        "```markdown\n",
        "https://drive.google.com/uc?export=view&id=1Ch8ALtMjpR88ur_1Qv2JqL9R3L7BH5Hg\n",
        "```\n",
        "\n",
        "3. **Map of North American Rivers and Basins**\n",
        "  - Use the link above and the syntax in [this link](https://www.markdownguide.org/cheat-sheet/), I can insert the map I prepared down here\n",
        "\n",
        "![Rivers](https://drive.google.com/uc?export=view&id=1Ch8ALtMjpR88ur_1Qv2JqL9R3L7BH5Hg)"
      ],
      "metadata": {
        "id": "WVs4J1jQbESU"
      }
    },
    {
      "cell_type": "markdown",
      "source": [
        "### **Reflection on my first experience mapping with QGIS**\n",
        "\n",
        "- I spent [2] hours to make my first map in QGIS\n",
        "- Here is how I rate my first experience working in QGIS\n",
        "  - Data managaement and organization\n",
        "    - This project took a long time to download and ultimetly figure out all the software. I should give myself more time next time. I would give myself a 6/10 for the first time.\n",
        "  - Cartographic functionalities, including changing colors/symbols of layers, adding map elements, exporting a map\n",
        "    - Using all the functions was interesting and some took awhile to find. Also, I should watch a tutorial of where eveything is so it takes less time. I would give myself an 8/10 for first time."
      ],
      "metadata": {
        "id": "i4RTLellbUh7"
      }
    },
    {
      "cell_type": "markdown",
      "source": [
        "### **Save and share this notebook**\n",
        "\n",
        "- Below is a publicly viewable link to this notebook\n",
        "\n",
        "```markdown\n",
        "https://colab.research.google.com/drive/1URgt0KePjtTVNJg09PvuYp-8HRMjzMJD?usp=sharing\n",
        "```"
      ],
      "metadata": {
        "id": "kkgukjDcXsqC"
      }
    },
    {
      "cell_type": "markdown",
      "source": [
        "### **Reference**\n",
        "\n",
        "- [Markdown cheat sheet](https://www.markdownguide.org/cheat-sheet/)\n",
        "- [Insert other references if available]"
      ],
      "metadata": {
        "id": "fvMbEX89YLeY"
      }
    }
  ]
}